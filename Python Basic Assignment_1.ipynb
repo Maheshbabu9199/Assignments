{
 "cells": [
  {
   "cell_type": "markdown",
   "id": "ac2307b1",
   "metadata": {},
   "source": [
    "##  Python Basic Assignment_01"
   ]
  },
  {
   "cell_type": "raw",
   "id": "f8e9583f",
   "metadata": {},
   "source": [
    "1. In the below elements which of them are values or an expression? eg:- values can be integer or string and expressions will be mathematical operators.\n",
    "* \n",
    "'hello'\n",
    "-87.8\n",
    "- \n",
    "/ \n",
    "+\t\n",
    "6\n",
    "\n",
    "Answer:\n",
    "The values in the above question are 'hello', -87.8, 6\n",
    "The expression in the above question are -,/,+"
   ]
  },
  {
   "cell_type": "raw",
   "id": "a7bb8064",
   "metadata": {},
   "source": [
    "2. What is the difference between string and variable?\n",
    "\n",
    "Answer:\n",
    "The difference between string and variable is string is value enclosed between the single or double quotations. Whereas variable is object name which is used to store some values in the program. These variables will be having some rules for creating a variable and some reserved words cannot be used as variables."
   ]
  },
  {
   "cell_type": "raw",
   "id": "005fbc0b",
   "metadata": {},
   "source": [
    "3. Describe three different data types?\n",
    "\n",
    "Answer:\n",
    "The different data types available in python are int, float, string, lists, set, tuples, dictionaries, bool.\n",
    "\n",
    "int: The int data type is used to store values of numbers datatype. We can store the numbers as values to variables as int datatype.\n",
    "list: Lists can be defined as collection of heterogeneous data type elements enclosed in the square brackets and separated by comma. The elements of the list can be of any datatype. Lists are mutable i.e they can be modified.\n",
    "string: Strings can be defined as values enclosed in the single or double quotations. Anything that is enclosed within the single or double quotations can be treated as strings in python."
   ]
  },
  {
   "cell_type": "raw",
   "id": "aefb9ab0",
   "metadata": {},
   "source": [
    "4. What is an expression made up of? What do all expressions do?\n",
    "\n",
    "Answer:\n",
    "Expression can be defined as the combination of mathematical operators and numbers or variables. The expression are used to perform some mathematical operation and produce some value in the end.\n",
    "Eg: 4*5+6, 2+7-1*2"
   ]
  },
  {
   "cell_type": "raw",
   "id": "a151f3d3",
   "metadata": {},
   "source": [
    "5. This assignment statements, like spam = 10. What is the difference between an expression and a statement?\n",
    "\n",
    "Answer:\n",
    "The difference between assignment and expression is, the expression can be defined as combination of mathematical operators and operands. Whereas the statements can be defined as the assignment of some expression to a variable or it could be assignment of some value to the variable."
   ]
  },
  {
   "cell_type": "raw",
   "id": "9c16d98e",
   "metadata": {},
   "source": [
    "6. After running the following code, what does the variable bacon contain?\n",
    "bacon = 22\n",
    "bacon + 1\n",
    "\n",
    "Answer:\n",
    "After running the code the value of the variable bacon will be still 22. The reason is in the first step we are assigning the value 22 to bacon and in the next step we are just adding 1 to it but not assigning to any variable. "
   ]
  },
  {
   "cell_type": "raw",
   "id": "80fe960a",
   "metadata": {},
   "source": [
    "7. What should the values of the following two terms be?\n",
    "'spam' + 'spamspam'\n",
    "'spam' * 3\n",
    "\n",
    "Answer:\n",
    "The first one will be 'spamspamspam'. Here the concatination of string operation is being performed.\n",
    "The second one will be 'spamspamspam'. Here we are using the repetation operation of string. So, it will be printing spam 3 times. "
   ]
  },
  {
   "cell_type": "raw",
   "id": "13ac7d42",
   "metadata": {},
   "source": [
    "8. Why is eggs a valid variable name while 100 is invalid?\n",
    "\n",
    "Answer:\n",
    "The reason why eggs is valid name and 100 is not because the variable name should be starting with alphabets or underscore. The variable name should not be starting with any numerical values."
   ]
  },
  {
   "cell_type": "raw",
   "id": "0992e8eb",
   "metadata": {},
   "source": [
    "9. What three functions can be used to get the integer, floating-point number, or string version of a value? \n",
    "\n",
    "Answer:\n",
    "We can use int(value), to get the integer version of the value. Here the value should be numerical one only. If the string is given it cannot be converted into numerical value.\n",
    "We can use float(value), to get the float version of the value. Here also the values should be numerical one only. \n",
    "We can use str(value), to get the string version of the value. Here the values can be any value.\n",
    "\n"
   ]
  },
  {
   "cell_type": "raw",
   "id": "1ae331de",
   "metadata": {},
   "source": [
    "10. Why does this expression cause an error? How can you fix it?\n",
    "'I have eaten ' + 99 + ' burritos.'\n",
    "\n",
    "Answer:\n",
    "This will throw a type error. The reason is we cannot concatinate a string with an integer.\n",
    "We can convert the integer value 99 to a string type using str().\n",
    "\n",
    "This can be resolved as following:\n",
    "'I have eaten ' + '99' + ' burritos '"
   ]
  },
  {
   "cell_type": "code",
   "execution_count": null,
   "id": "879946ba",
   "metadata": {},
   "outputs": [],
   "source": []
  }
 ],
 "metadata": {
  "kernelspec": {
   "display_name": "Python 3 (ipykernel)",
   "language": "python",
   "name": "python3"
  },
  "language_info": {
   "codemirror_mode": {
    "name": "ipython",
    "version": 3
   },
   "file_extension": ".py",
   "mimetype": "text/x-python",
   "name": "python",
   "nbconvert_exporter": "python",
   "pygments_lexer": "ipython3",
   "version": "3.9.6"
  }
 },
 "nbformat": 4,
 "nbformat_minor": 5
}
