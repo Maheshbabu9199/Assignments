{
 "cells": [
  {
   "cell_type": "code",
   "execution_count": 2,
   "id": "6ff57cfb",
   "metadata": {},
   "outputs": [
    {
     "name": "stdout",
     "output_type": "stream",
     "text": [
      "Enter the kilometres 2\n",
      "1.2426\n"
     ]
    }
   ],
   "source": [
    "# 1.Write a Python program to convert kilometers to miles?\n",
    "\n",
    "km = int(input(\"Enter the kilometres \"))\n",
    "miles=km*0.6213\n",
    "print(miles)"
   ]
  },
  {
   "cell_type": "code",
   "execution_count": 4,
   "id": "6b00b39f",
   "metadata": {},
   "outputs": [
    {
     "name": "stdout",
     "output_type": "stream",
     "text": [
      "Enter the celsius 2\n",
      "35.6\n"
     ]
    }
   ],
   "source": [
    "# 2.Write a Python program to convert Celsius to Fahrenheit?\n",
    "\n",
    "celisus = int(input(\"Enter the celsius \"))\n",
    "fahrenheit = (celisus*(9/5))+32\n",
    "print(fahrenheit)"
   ]
  },
  {
   "cell_type": "code",
   "execution_count": 6,
   "id": "0e0df729",
   "metadata": {},
   "outputs": [
    {
     "name": "stdout",
     "output_type": "stream",
     "text": [
      "Enter year 2022\n",
      "Enter month 12\n",
      "The calendar is \n",
      "\n",
      "    December 2022\n",
      "Mo Tu We Th Fr Sa Su\n",
      "          1  2  3  4\n",
      " 5  6  7  8  9 10 11\n",
      "12 13 14 15 16 17 18\n",
      "19 20 21 22 23 24 25\n",
      "26 27 28 29 30 31\n",
      "\n"
     ]
    }
   ],
   "source": [
    "# 3.Write a Python program to display calendar?\n",
    "\n",
    "import calendar\n",
    "\n",
    "year = int(input(\"Enter year \"))\n",
    "month = int(input(\"Enter month \"))\n",
    "\n",
    "calendar = calendar.month(year,month)\n",
    "print(\"The calendar is \\n\\n\",calendar)\n"
   ]
  },
  {
   "cell_type": "code",
   "execution_count": 18,
   "id": "4d195ff5",
   "metadata": {},
   "outputs": [
    {
     "name": "stdout",
     "output_type": "stream",
     "text": [
      "Enter a value 1\n",
      "Enter b value 5\n",
      "Enter c value 6\n",
      "Solution1 is  -2.0\n",
      "Solution2 is  -3.0\n"
     ]
    }
   ],
   "source": [
    "# 4.Write a Python program to solve quadratic equation?\n",
    "\n",
    "\"\"\"\n",
    "A equation can be described as quadratic equation if it is in the form \n",
    "\n",
    "of ax^2+bx+c=0, where a!=0. So, this can be solved by using the formula (-b+-(sqrt(b^2-4ac)))/2a\n",
    "\"\"\"\n",
    "\n",
    "a = int(input(\"Enter a value \"))\n",
    "b = int(input(\"Enter b value \"))\n",
    "c = int(input(\"Enter c value \"))\n",
    "\n",
    "temp = (b**2)-4*a*c\n",
    "\n",
    "solution1 = (-b+(temp**0.5))/2*a\n",
    "print(\"Solution1 is \",solution1)\n",
    "\n",
    "solution2 = (-b-(temp**0.5))/2*a\n",
    "print(\"Solution2 is \",solution2)"
   ]
  },
  {
   "cell_type": "code",
   "execution_count": 20,
   "id": "2a7d68c6",
   "metadata": {},
   "outputs": [
    {
     "name": "stdout",
     "output_type": "stream",
     "text": [
      "Enter a value 10\n",
      "Enter b value 20\n",
      "Value of a after swapping is  20\n",
      "Value of b after swapping is  10\n"
     ]
    }
   ],
   "source": [
    "# 5. Write a Python program to swap two variables without temp variable\n",
    "\n",
    "a=int(input(\"Enter a value \"))\n",
    "b=int(input(\"Enter b value \"))\n",
    "a=a+b\n",
    "b=a-b\n",
    "a=a-b\n",
    "print(\"Value of a after swapping is \",a)\n",
    "print(\"Value of b after swapping is \",b)"
   ]
  },
  {
   "cell_type": "code",
   "execution_count": null,
   "id": "128ec352",
   "metadata": {},
   "outputs": [],
   "source": []
  }
 ],
 "metadata": {
  "kernelspec": {
   "display_name": "Python 3 (ipykernel)",
   "language": "python",
   "name": "python3"
  },
  "language_info": {
   "codemirror_mode": {
    "name": "ipython",
    "version": 3
   },
   "file_extension": ".py",
   "mimetype": "text/x-python",
   "name": "python",
   "nbconvert_exporter": "python",
   "pygments_lexer": "ipython3",
   "version": "3.9.6"
  }
 },
 "nbformat": 4,
 "nbformat_minor": 5
}
