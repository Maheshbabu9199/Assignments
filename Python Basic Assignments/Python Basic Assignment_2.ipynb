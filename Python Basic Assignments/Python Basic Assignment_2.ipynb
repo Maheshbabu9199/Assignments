{
 "cells": [
  {
   "cell_type": "raw",
   "id": "eef7485f",
   "metadata": {},
   "source": [
    "1.What are the two values of the Boolean data type? How do you write them?\n",
    "\n",
    "Answer:\n",
    "The two values of the boolean datatype are True and False. They can be written be as \"true\" and \"false\".\n"
   ]
  },
  {
   "cell_type": "raw",
   "id": "c39ab317",
   "metadata": {},
   "source": [
    "2. What are the three different types of Boolean operators?\n",
    "\n",
    "Answer:\n",
    "The three data types of boolean AND, OR and NOT. "
   ]
  },
  {
   "cell_type": "raw",
   "id": "63246669",
   "metadata": {},
   "source": [
    "3. Make a list of each Boolean operator's truth tables\n",
    "(i.e. every possible combination of Boolean values for the operator and what it evaluate )?\n",
    "\n",
    "AND: \n",
    "T AND T = T\n",
    "T AND F = F\n",
    "F AND T = F\n",
    "F AND F = F\n",
    "\n",
    "OR:\n",
    "T OR T = T\n",
    "T OR F = T\n",
    "F OR T = T\n",
    "F OR F = F \n",
    "\n",
    "NOT \n",
    "T \n",
    "\n"
   ]
  },
  {
   "cell_type": "raw",
   "id": "67674072",
   "metadata": {},
   "source": [
    "4. What are the values of the following expressions?\n",
    "(5 > 4) and (3 == 5)\n",
    "not (5 > 4)\n",
    "(5 > 4) or (3 == 5)\n",
    "not ((5 > 4) or (3 == 5))\n",
    "(True and True) and (True == False)\n",
    "(not False) or (not True)\n",
    "\n",
    "Answer:\n",
    "(5 > 4) and (3 == 5)  - False\n",
    "not (5 > 4) - False\n",
    "(5 > 4) or (3 == 5) - True \n",
    "not ((5 > 4) or (3 == 5)) - False\n",
    "(True and True) and (True == False) - False \n",
    "(not False) or (not True) – True\n"
   ]
  },
  {
   "cell_type": "raw",
   "id": "e4fd2ebc",
   "metadata": {},
   "source": [
    "5. What are the six comparison operators?\n",
    "Answer:\n",
    "The six comparison operators are:\n",
    "<     -   Less than\n",
    ">     -    Greater than\n",
    "<=   -   Less than or equal to\n",
    ">=   -  Greater than equal to  \n",
    "!=     -   Not equal to \n",
    "==    -    equal to\n"
   ]
  },
  {
   "cell_type": "raw",
   "id": "369680d0",
   "metadata": {},
   "source": [
    "6. How do you tell the difference between the equal to and assignment operators?Describe a condition and when you would use one.\n",
    "\n",
    "Answer:\n",
    "We will define the equal to with “==” and assignment operators will be defined as “=”.\n",
    "Eg:\n",
    "Equal to:\t\t\t\t\t\tAssignment:\n",
    "a=10\t\t\t\t\t\t\ta=20\n",
    "b=20\t\t\t\t\t\t\tprint(“The value of a is “, a)\n",
    "if a==b:\n",
    "      print(“Equal”)\n",
    "else:\n",
    "      print(“Not Equal”)\n"
   ]
  },
  {
   "cell_type": "raw",
   "id": "f23cf992",
   "metadata": {},
   "source": [
    "7. Identify the three blocks in this code:\n",
    "spam = 0\n",
    "if spam == 10:\n",
    "print('eggs')\n",
    "if spam > 5:\n",
    "print('bacon')\n",
    "else:\n",
    "print('ham')\n",
    "print('spam')\n",
    "print('spam')\n",
    "\n",
    "Answer:\n",
    "spam=0\n",
    "if spam==10:\n",
    "\tprint(“eggs”)\n",
    "if spam>5:\n",
    "\tprint(“bacon”)\n",
    "else:\n",
    "\tprint(“ham”)\n",
    "print(“spam”)\n",
    "print(“spam”)\n",
    "\n"
   ]
  },
  {
   "cell_type": "raw",
   "id": "02c046f1",
   "metadata": {},
   "source": [
    "8. Write code that prints Hello if 1 is stored in spam, prints Howdy if 2 is stored in spam, and prints Greetings! if anything else is stored in spam ?\n",
    "Answer:\n",
    "spam=input()\n",
    "if spam==1:\n",
    "\tprint(“Hello”)\n",
    "elif spam==2:\n",
    "\tprint(“Howdy”)\n",
    "else:\n",
    "\tprint(“Greetings!”)\n"
   ]
  },
  {
   "cell_type": "raw",
   "id": "a9003453",
   "metadata": {},
   "source": [
    "9. If your programme is stuck in an endless loop, what keys you’ll press?\n",
    "\n",
    "Answer:\n",
    "We can use ctrl+c to stop the endless loop.\n"
   ]
  },
  {
   "cell_type": "raw",
   "id": "d32b7de1",
   "metadata": {},
   "source": [
    "10. How can you tell the difference between break and continue?\n",
    "Answer:\n",
    "Break is used to break a loop if any condition in the loop is satisfied. \n",
    "Eg:\n",
    "N=50\n",
    "for i  in  range(0,N):\n",
    "\tif i==5:\n",
    "\t\tbreak\n",
    "Here, the loop break when the value of i ==5. \n",
    "Continue is used to skip the steps below the continue statement in the code.\n",
    "N=50\n",
    "for i in range(N):\n",
    "\tif i==5:\n",
    "                    print(“Inside the continue statement”)\n",
    "\t       continue\n",
    "             print(“The value of i is “,i)\n",
    "It will print all the numbers from 0 to 50 other than 5, when i value is 5 it will print “Inside the continue statement” because the statements below the continue will not executed and skipped.\n"
   ]
  },
  {
   "cell_type": "raw",
   "id": "44402576",
   "metadata": {},
   "source": [
    "11. In a for loop, what is the difference between range(10), range(0, 10), and range(0, 10, 1)?\n",
    "Answer:\n",
    "There is no significance difference between range(10), range(0,10) and range(0,10,1). All the three will be executed same and the values will be from 0 to 10 with step value of 1.\n",
    "\n"
   ]
  },
  {
   "cell_type": "raw",
   "id": "6d519be5",
   "metadata": {},
   "source": [
    "12. Write a short program that prints the numbers 1 to 10 using a for loop. Then write an equivalent program that prints the numbers 1 to 10 using a while loop?\n",
    "Answer:\n",
    "For loop:\n",
    "for i in range(1,11):\n",
    "\tprint(i)\n",
    "Using while loop:\n",
    "i=1\n",
    "while i<=10:\n",
    "\tprint(i)\n"
   ]
  },
  {
   "cell_type": "raw",
   "id": "83cd91fc",
   "metadata": {},
   "source": [
    "13. If you had a function named bacon() inside a module named spam, how would you call it after importing spam?\n",
    "Answer:\n",
    "We can import the bacon() function from spam by the following\n",
    "from spam import bacon\n"
   ]
  }
 ],
 "metadata": {
  "kernelspec": {
   "display_name": "Python 3 (ipykernel)",
   "language": "python",
   "name": "python3"
  },
  "language_info": {
   "codemirror_mode": {
    "name": "ipython",
    "version": 3
   },
   "file_extension": ".py",
   "mimetype": "text/x-python",
   "name": "python",
   "nbconvert_exporter": "python",
   "pygments_lexer": "ipython3",
   "version": "3.9.6"
  }
 },
 "nbformat": 4,
 "nbformat_minor": 5
}
